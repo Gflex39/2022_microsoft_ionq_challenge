{
 "cells": [
  {
   "cell_type": "code",
   "execution_count": 2,
   "metadata": {},
   "outputs": [
    {
     "name": "stdout",
     "output_type": "stream",
     "text": [
      "pygame 2.1.2 (SDL 2.0.18, Python 3.10.2)\n",
      "Hello from the pygame community. https://www.pygame.org/contribute.html\n"
     ]
    }
   ],
   "source": [
    "\n",
    "from qiskit import QuantumCircuit, transpile\n",
    "from qiskit.tools.monitor import job_monitor\n",
    "from azure.quantum.qiskit import AzureQuantumProvider\n",
    "import random\n",
    "\n",
    "import re\n",
    "import numpy as np\n",
    "\n",
    "\n",
    "\n"
   ]
  },
  {
   "cell_type": "code",
   "execution_count": 3,
   "metadata": {},
   "outputs": [],
   "source": [
    "provider = AzureQuantumProvider (\n",
    "    resource_id = \"/subscriptions/b1d7f7f8-743f-458e-b3a0-3e09734d716d/resourceGroups/aq-hackathons/providers/Microsoft.Quantum/Workspaces/aq-hackathon-01\",\n",
    "    location = \"eastus\")\n",
    "\n",
    "qpu_backend = provider.get_backend(\"ionq.qpu\")\n",
    "\n",
    "\n",
    "def QRNG(ngates):\n",
    "    \"\"\"\n",
    "    Given the number of gates in the deck, returns a quantum random index\n",
    "    \"\"\"\n",
    "    nqubits = 6\n",
    "    circ = QuantumCircuit(nqubits,nqubits)\n",
    "    circ.name = f'{nqubits}-qubit QRNG'\n",
    "    for reg in range(nqubits):\n",
    "        circ.h(reg)             # putting it into a superposition\n",
    "    circ.measure([reg for reg in range(nqubits)],[reg for reg in range(nqubits)])\n",
    "    \n",
    "    qpu_backend = provider.get_backend(\"ionq.qpu\")\n",
    "    qpu_job = qpu_backend.run(circ, shots=1)    # just one shot to select from the set of possible bitstrings\n",
    "    result = qpu_job.result()\n",
    "    \n",
    "    bitstring = list(result.get_counts(circ).keys())[0] # extracts the bistring that was measured\n",
    "    randnum = int(bitstring,2)\n",
    "    gateindex = int(randnum/(2**nqubits-1) * (ngates-1)) # rescales the qubit's domain to the domain we need from the gate deck\n",
    "    \n",
    "    return gateindex"
   ]
  },
  {
   "cell_type": "code",
   "execution_count": 28,
   "metadata": {},
   "outputs": [],
   "source": [
    "\n",
    "class QuantumPoker:\n",
    "    def deal(self,hand):\n",
    "        \"\"\"Tops off the players hand to ensure they have three cards\"\"\"\n",
    "        while len(hand)<3:\n",
    "            \n",
    "            if len(self.deck)==0:\n",
    "                return\n",
    "            # here we choose whether we want to draw the cards via quantum or classical randomness\n",
    "            if self.sim:\n",
    "                hand.append(self.deck.pop(np.random.randint(len(self.deck))))\n",
    "            else:\n",
    "                hand.append(self.deck.pop(QRNG(len(self.deck))))\n",
    "\n",
    "              \n",
    "\n",
    "    def __init__(self,num_players,sim=True):\n",
    "        \"\"\"Initializes a game with the amount of players specified\"\"\"\n",
    "        self.sim=sim\n",
    "\n",
    "        \n",
    "        self.deck=[]\n",
    "        \n",
    "        # fills the deck with the given ratios of gates\n",
    "        for i in [(\"x\",3),(\"z\",1),(\"y\",2),(\"h\",2),(\"c\",2),(\"t\",1),(\"s\",1)]:\n",
    "            for j in range(i[1]*num_players):\n",
    "                \n",
    "                self.deck.append(i[0])\n",
    "        \n",
    "        self.game={}\n",
    "        for i in range(num_players):\n",
    "            # creates a 6-qubit empy circuit for each player\n",
    "            name=\"player\"+str(i)\n",
    "            cards=[]\n",
    "            self.deal(cards)\n",
    "            self.game[name]={\"hand\":QuantumCircuit(6,6),\"cards\":cards}\n",
    "        \n",
    "        self.goal=list(np.random.randint(2,size=6)) # arbitrary objective bitstring, e.g. \"100101\"\n",
    "        print(\"Your goal is \"+ \"\".join(map(str,self.goal)))\n",
    "        \n",
    "\n",
    "    \n",
    "\n",
    "    def turn(self,player,moves):\n",
    "        \"\"\"This does a players turn based on the cards\n",
    "            takes a player object and a tuple of form (<gate>, (<person target>, <qubit target>[, <control qubit>]))\"\"\"\n",
    "        # moves is a list of move entries, with each move being in the format:\n",
    "        # (<gate>, (<person target>, <qubit target>[, <control qubit>]))\n",
    "        for move in moves:\n",
    "            target=\"player\"+str(move[1][0])\n",
    "            bit=int(move[1][1])\n",
    "            \n",
    "            \n",
    "            # these apply the chosen gate\n",
    "            if move[0] in player[\"cards\"]:\n",
    "                player[\"cards\"].remove(move[0])\n",
    "            if move[0]==\"x\":\n",
    "                self.game[target][\"hand\"].x(bit)\n",
    "                \n",
    "            elif move[0]==\"y\":\n",
    "                self.game[target][\"hand\"].y(bit)\n",
    "            elif move[0]==\"z\":\n",
    "                self.game[target][\"hand\"].z(bit)\n",
    "            elif move[0]==\"c\":\n",
    "                self.game[target][\"hand\"].c(move[1][2],bit)\n",
    "            elif move[0]==\"h\":\n",
    "               self.game[target][\"hand\"].h(bit)\n",
    "            elif move[0]==\"t\":\n",
    "                self.game[target][\"hand\"].t(bit)\n",
    "            elif move[0]==\"s\":\n",
    "                self.game[target][\"hand\"].s(bit)\n",
    "\n",
    "        self.deal(player[\"cards\"])\n",
    "\n",
    "\n",
    "\n",
    "    def sorter(e):\n",
    "        \"\"\"Sorts by second element\"\"\"\n",
    "        return e[1]\n",
    "        \n",
    "    def begin(self):\n",
    "        last=False\n",
    "        while(True):\n",
    "            if len(self.deck)==0:\n",
    "                print(\"Last Turn\")\n",
    "                last=True\n",
    "\n",
    "                \n",
    "        \n",
    "            for playerd in self.game:\n",
    "\n",
    "                #introduces the turn\n",
    "                player=self.game[playerd]\n",
    "                print(\"It is \"+playerd+\"'s turn\")\n",
    "                if len(player[\"cards\"])>0:\n",
    "                    print(\"Your cards are :\"+str(player[\"cards\"]))\n",
    "                    print(\"Here all the circuits\")\n",
    "                    for show in self.game:\n",
    "                        circ=self.game[show][\"hand\"]\n",
    "                        print(circ.draw(\"text\"))\n",
    "                else:\n",
    "                    print(\"You have no cards\")\n",
    "\n",
    "                num = input(\"How many cards would you like to play?\")\n",
    "                if not num: continue # passes\n",
    "                \n",
    "                moves=[]\n",
    "                # print(player[\"hand\"])\n",
    "                if num>len(player[\"cards\"]):\n",
    "                    print(\"Trying to cheat are we?\")\n",
    "\n",
    "                for i in range(min(int(num),len(player[\"cards\"]))):\n",
    "\n",
    "                    #adds a move to the moves list for each gate used\n",
    "                    gate= input(\"Which gate shall you use?\")\n",
    "                    person= input(\"Who will be your target?\")\n",
    "                    bit= input(\"Which bit?\")\n",
    "                    \n",
    "                    if gate==\"c\":\n",
    "                        cbit=input(\"Which one is the control bit?\")\n",
    "                        target=(person,bit,cbit)\n",
    "                        moves.append((gate,target))\n",
    "                    else:\n",
    "                        target=(person,bit)\n",
    "                        moves.append((gate,target))\n",
    "                \n",
    "                self.turn(player,moves) # applies the gates to the designated circuit(s)\n",
    "            if last:\n",
    "                break\n",
    "        \n",
    "        scores=[]\n",
    "        for player in self.game:\n",
    "            \n",
    "            # measures the player's circuit once and records the observed bitstring\n",
    "            circ=self.game[player][\"hand\"]\n",
    "            circ.measure([i for i in range(6)],[i for i in range(6)])\n",
    "\n",
    "            \n",
    "            player_job=qpu_backend.run(circ,shots=1)\n",
    "            result=player_job.result()\n",
    "            bitstring= list(result.get_counts(circ).keys())[0]\n",
    "            \n",
    "            # compares the observed bitstring to the goal bitstring by summing the number of indices they differ\n",
    "            tot=0\n",
    "            for i in str(bin((int(\"\".join(map(str,self.goal)),2)^int(bitstring,2)))):\n",
    "                if i in (\"1\",\"0\"):\n",
    "                    tot+=1\n",
    "            scores.append((player,tot))\n",
    "        scores.sort(key=sorter(),reverse=True)\n",
    "        winners=[]\n",
    "        top=scores[0][1]\n",
    "        for i in scores:\n",
    "            if i[1]==top:\n",
    "                winners.append(i[0])\n",
    "            else:\n",
    "                break\n",
    "        print(\"Game over!\")\n",
    "        print(\"The top scorers were: \"+ winners)"
   ]
  },
  {
   "cell_type": "code",
   "execution_count": 34,
   "metadata": {},
   "outputs": [
    {
     "name": "stdout",
     "output_type": "stream",
     "text": [
      "Your goal is 101101\n",
      "It is player0's turn\n",
      "Your hand is :['x', 'x', 'x']\n",
      "It is player1's turn\n",
      "Your hand is :['x', 'x', 'x']\n",
      "Last Turn\n",
      "It is player0's turn\n",
      "Your hand is :['x']\n",
      "It is player1's turn\n",
      "Your hand is :['x', 'x', 'x']\n",
      "measure\n",
      "     ┌─┐               \n",
      "q_0: ┤M├───────────────\n",
      "     └╥┘┌─┐            \n",
      "q_1: ─╫─┤M├────────────\n",
      "      ║ └╥┘┌─┐         \n",
      "q_2: ─╫──╫─┤M├─────────\n",
      "      ║  ║ └╥┘┌─┐      \n",
      "q_3: ─╫──╫──╫─┤M├──────\n",
      "      ║  ║  ║ └╥┘┌─┐   \n",
      "q_4: ─╫──╫──╫──╫─┤M├───\n",
      "      ║  ║  ║  ║ └╥┘┌─┐\n",
      "q_5: ─╫──╫──╫──╫──╫─┤M├\n",
      "      ║  ║  ║  ║  ║ └╥┘\n",
      "c: 6/═╩══╩══╩══╩══╩══╩═\n",
      "      0  1  2  3  4  5 \n",
      "     ┌─┐               \n",
      "q_0: ┤M├───────────────\n",
      "     └╥┘┌─┐            \n",
      "q_1: ─╫─┤M├────────────\n",
      "      ║ └╥┘┌─┐         \n",
      "q_2: ─╫──╫─┤M├─────────\n",
      "      ║  ║ └╥┘┌─┐      \n",
      "q_3: ─╫──╫──╫─┤M├──────\n",
      "      ║  ║  ║ └╥┘┌─┐   \n",
      "q_4: ─╫──╫──╫──╫─┤M├───\n",
      "      ║  ║  ║  ║ └╥┘┌─┐\n",
      "q_5: ─╫──╫──╫──╫──╫─┤M├\n",
      "      ║  ║  ║  ║  ║ └╥┘\n",
      "c: 6/═╩══╩══╩══╩══╩══╩═\n",
      "      0  1  2  3  4  5 \n",
      "backend\n",
      "................................................................................................................................................................................Result(backend_name='ionq.qpu', backend_version='1', qobj_id='circuit-26', job_id='45d0d112-81dc-11ec-b72f-acde48001122', success=True, results=[ExperimentResult(shots=1, success=True, meas_level=2, data=ExperimentResultData(counts=defaultdict(<class 'int'>, {'000000': 1}), probabilities=defaultdict(<class 'int'>, {'000000': 1})), header=QobjExperimentHeader(qiskit='True', name='circuit-26', num_qubits='6', meas_map='[0, 1, 2, 3, 4, 5]'))])\n",
      "000000\n",
      "measure\n",
      "          ┌─┐                       \n",
      "q_0: ─────┤M├───────────────────────\n",
      "     ┌───┐└╥┘┌───┐┌───┐┌───┐┌───┐┌─┐\n",
      "q_1: ┤ X ├─╫─┤ X ├┤ X ├┤ X ├┤ X ├┤M├\n",
      "     └┬─┬┘ ║ └───┘└───┘└───┘└───┘└╥┘\n",
      "q_2: ─┤M├──╫──────────────────────╫─\n",
      "      └╥┘  ║  ┌─┐                 ║ \n",
      "q_3: ──╫───╫──┤M├─────────────────╫─\n",
      "       ║   ║  └╥┘  ┌─┐            ║ \n",
      "q_4: ──╫───╫───╫───┤M├────────────╫─\n",
      "       ║   ║   ║   └╥┘  ┌─┐       ║ \n",
      "q_5: ──╫───╫───╫────╫───┤M├───────╫─\n",
      "       ║   ║   ║    ║   └╥┘       ║ \n",
      "c: 6/══╩═══╩═══╩════╩════╩════════╩═\n",
      "       2   0   3    4    5        1 \n",
      "          ┌─┐                       \n",
      "q_0: ─────┤M├───────────────────────\n",
      "     ┌───┐└╥┘┌───┐┌───┐┌───┐┌───┐┌─┐\n",
      "q_1: ┤ X ├─╫─┤ X ├┤ X ├┤ X ├┤ X ├┤M├\n",
      "     └┬─┬┘ ║ └───┘└───┘└───┘└───┘└╥┘\n",
      "q_2: ─┤M├──╫──────────────────────╫─\n",
      "      └╥┘  ║  ┌─┐                 ║ \n",
      "q_3: ──╫───╫──┤M├─────────────────╫─\n",
      "       ║   ║  └╥┘  ┌─┐            ║ \n",
      "q_4: ──╫───╫───╫───┤M├────────────╫─\n",
      "       ║   ║   ║   └╥┘  ┌─┐       ║ \n",
      "q_5: ──╫───╫───╫────╫───┤M├───────╫─\n",
      "       ║   ║   ║    ║   └╥┘       ║ \n",
      "c: 6/══╩═══╩═══╩════╩════╩════════╩═\n",
      "       2   0   3    4    5        1 \n",
      "backend\n",
      "......................Result(backend_name='ionq.qpu', backend_version='1', qobj_id='circuit-27', job_id='f014bb4c-81e7-11ec-b72f-acde48001122', success=True, results=[ExperimentResult(shots=1, success=True, meas_level=2, data=ExperimentResultData(counts=defaultdict(<class 'int'>, {'000010': 1}), probabilities=defaultdict(<class 'int'>, {'000010': 1})), header=QobjExperimentHeader(qiskit='True', name='circuit-27', num_qubits='6', meas_map='[0, 1, 2, 3, 4, 5]'))])\n",
      "000010\n"
     ]
    },
    {
     "ename": "TypeError",
     "evalue": "'QuantumPoker' object is not subscriptable",
     "output_type": "error",
     "traceback": [
      "\u001b[0;31m---------------------------------------------------------------------------\u001b[0m",
      "\u001b[0;31mTypeError\u001b[0m                                 Traceback (most recent call last)",
      "Input \u001b[0;32mIn [34]\u001b[0m, in \u001b[0;36m<module>\u001b[0;34m\u001b[0m\n\u001b[1;32m      1\u001b[0m new\u001b[38;5;241m=\u001b[39mQuantumPoker(\u001b[38;5;241m2\u001b[39m)\n\u001b[0;32m----> 2\u001b[0m \u001b[43mnew\u001b[49m\u001b[38;5;241;43m.\u001b[39;49m\u001b[43mbegin\u001b[49m\u001b[43m(\u001b[49m\u001b[43m)\u001b[49m\n",
      "Input \u001b[0;32mIn [28]\u001b[0m, in \u001b[0;36mQuantumPoker.begin\u001b[0;34m(self)\u001b[0m\n\u001b[1;32m    142\u001b[0m             tot\u001b[38;5;241m+\u001b[39m\u001b[38;5;241m=\u001b[39m\u001b[38;5;241m1\u001b[39m\n\u001b[1;32m    143\u001b[0m     scores\u001b[38;5;241m.\u001b[39mappend((player,tot))\n\u001b[0;32m--> 144\u001b[0m scores\u001b[38;5;241m.\u001b[39msort(key\u001b[38;5;241m=\u001b[39m\u001b[38;5;28;43mself\u001b[39;49m\u001b[38;5;241;43m.\u001b[39;49m\u001b[43msorter\u001b[49m\u001b[43m(\u001b[49m\u001b[43m)\u001b[49m,reverse\u001b[38;5;241m=\u001b[39m\u001b[38;5;28;01mTrue\u001b[39;00m)\n\u001b[1;32m    145\u001b[0m \u001b[38;5;28mprint\u001b[39m(\u001b[38;5;124m\"\u001b[39m\u001b[38;5;124msorted\u001b[39m\u001b[38;5;124m\"\u001b[39m)\n\u001b[1;32m    146\u001b[0m winners\u001b[38;5;241m=\u001b[39m[]\n",
      "Input \u001b[0;32mIn [28]\u001b[0m, in \u001b[0;36mQuantumPoker.sorter\u001b[0;34m(e)\u001b[0m\n\u001b[1;32m     75\u001b[0m \u001b[38;5;28;01mdef\u001b[39;00m \u001b[38;5;21msorter\u001b[39m(e):\n\u001b[0;32m---> 76\u001b[0m     \u001b[38;5;28;01mreturn\u001b[39;00m \u001b[43me\u001b[49m\u001b[43m[\u001b[49m\u001b[38;5;241;43m1\u001b[39;49m\u001b[43m]\u001b[49m\n",
      "\u001b[0;31mTypeError\u001b[0m: 'QuantumPoker' object is not subscriptable"
     ]
    }
   ],
   "source": [
    "new=QuantumPoker(2)\n",
    "new.begin()\n"
   ]
  },
  {
   "cell_type": "code",
   "execution_count": 19,
   "metadata": {},
   "outputs": [
    {
     "name": "stdout",
     "output_type": "stream",
     "text": [
      "Your goal is101000\n"
     ]
    }
   ],
   "source": []
  },
  {
   "cell_type": "code",
   "execution_count": 36,
   "metadata": {},
   "outputs": [
    {
     "name": "stdout",
     "output_type": "stream",
     "text": [
      "4\n",
      "y\n"
     ]
    }
   ],
   "source": []
  },
  {
   "cell_type": "code",
   "execution_count": 27,
   "metadata": {},
   "outputs": [
    {
     "name": "stdout",
     "output_type": "stream",
     "text": [
      "[('ji', 1), ('ju', 2), ('jo', 3)]\n"
     ]
    }
   ],
   "source": [
    "a=[(\"jo\",3),(\"ji\",1),(\"ju\",2)]\n",
    "def sorter(e):\n",
    "    return e[1]\n",
    "a.sort(key=sorter)\n",
    "print(a)"
   ]
  },
  {
   "cell_type": "code",
   "execution_count": 31,
   "metadata": {},
   "outputs": [
    {
     "name": "stdout",
     "output_type": "stream",
     "text": [
      "1\n",
      "3\n",
      "5\n",
      "7\n",
      "9\n"
     ]
    }
   ],
   "source": [
    "d = {1:2,3:4,5:6,7:8,9:0}\n",
    "for i in d:\n",
    "    print(i)"
   ]
  },
  {
   "cell_type": "code",
   "execution_count": 33,
   "metadata": {},
   "outputs": [
    {
     "ename": "TypeError",
     "evalue": "unsupported operand type(s) for -: 'dict' and 'dict'",
     "output_type": "error",
     "traceback": [
      "\u001b[0;31m---------------------------------------------------------------------------\u001b[0m",
      "\u001b[0;31mTypeError\u001b[0m                                 Traceback (most recent call last)",
      "Input \u001b[0;32mIn [33]\u001b[0m, in \u001b[0;36m<module>\u001b[0;34m\u001b[0m\n\u001b[0;32m----> 1\u001b[0m \u001b[43md\u001b[49m\u001b[38;5;241;43m-\u001b[39;49m\u001b[43m{\u001b[49m\u001b[38;5;241;43m1\u001b[39;49m\u001b[43m:\u001b[49m\u001b[38;5;241;43m2\u001b[39;49m\u001b[43m}\u001b[49m\n",
      "\u001b[0;31mTypeError\u001b[0m: unsupported operand type(s) for -: 'dict' and 'dict'"
     ]
    }
   ],
   "source": [
    "d-{"
   ]
  },
  {
   "cell_type": "code",
   "execution_count": null,
   "metadata": {},
   "outputs": [],
   "source": []
  }
 ],
 "metadata": {
  "interpreter": {
   "hash": "31f2aee4e71d21fbe5cf8b01ff0e069b9275f58929596ceb00d14d90e3e16cd6"
  },
  "kernelspec": {
   "display_name": "Python 3.8.2 64-bit",
   "language": "python",
   "name": "python3"
  },
  "language_info": {
   "codemirror_mode": {
    "name": "ipython",
    "version": 3
   },
   "file_extension": ".py",
   "mimetype": "text/x-python",
   "name": "python",
   "nbconvert_exporter": "python",
   "pygments_lexer": "ipython3",
   "version": "3.7.11"
  },
  "orig_nbformat": 4
 },
 "nbformat": 4,
 "nbformat_minor": 2
}
